{
  "nbformat": 4,
  "nbformat_minor": 0,
  "metadata": {
    "colab": {
      "provenance": [],
      "gpuType": "L4"
    },
    "kernelspec": {
      "name": "python3",
      "display_name": "Python 3"
    },
    "language_info": {
      "name": "python"
    },
    "accelerator": "GPU"
  },
  "cells": [
    {
      "cell_type": "markdown",
      "source": [
        "# **SleepyLM Quickstart**"
      ],
      "metadata": {
        "id": "uAlmGRbZl3w5"
      }
    },
    {
      "cell_type": "markdown",
      "source": [
        "### Clone and install dependencies"
      ],
      "metadata": {
        "id": "2Hv1ZWmzl_el"
      }
    },
    {
      "cell_type": "code",
      "execution_count": null,
      "metadata": {
        "id": "z6ui4AtORhjQ"
      },
      "outputs": [],
      "source": [
        "%cd /content\n",
        "!rm -rf llm-memory\n",
        "\n",
        "!git clone https://github.com/dyang195/llm-memory.git\n",
        "%cd llm-memory\n",
        "\n",
        "!pip install -U pip\n",
        "!pip install -e ."
      ]
    },
    {
      "cell_type": "markdown",
      "source": [
        "### Set OpenAI API Key"
      ],
      "metadata": {
        "id": "iNOYMwibmIrt"
      }
    },
    {
      "cell_type": "code",
      "source": [
        "import os\n",
        "os.environ[\"OPENAI_API_KEY\"] = // YOUR API KEY"
      ],
      "metadata": {
        "id": "UtVlVxclRtAQ"
      },
      "execution_count": null,
      "outputs": []
    },
    {
      "cell_type": "markdown",
      "source": [
        "### Generate training dataset"
      ],
      "metadata": {
        "id": "j6_p_DYpmMBX"
      }
    },
    {
      "cell_type": "code",
      "source": [
        "!sleepylm add \"My name is Carl\" --out name.jsonl\n",
        "!sleepylm add \"I live in San Francisco\" --out city.jsonl\n",
        "\n",
        "!cat name.jsonl city.jsonl > memories.jsonl"
      ],
      "metadata": {
        "id": "bFA3HYisRtFG"
      },
      "execution_count": null,
      "outputs": []
    },
    {
      "cell_type": "markdown",
      "source": [
        "### Finetune with QLoRA"
      ],
      "metadata": {
        "id": "8KdSnNJ-mXVk"
      }
    },
    {
      "cell_type": "code",
      "source": [
        "!sleepylm sleep memories.jsonl --base microsoft/Phi-3-mini-4k-instruct --out carl-lm"
      ],
      "metadata": {
        "collapsed": true,
        "id": "60ItLQP2RtNI"
      },
      "execution_count": null,
      "outputs": []
    },
    {
      "cell_type": "markdown",
      "source": [
        "### Chat with final LM"
      ],
      "metadata": {
        "id": "89hMxlw3mbo9"
      }
    },
    {
      "cell_type": "code",
      "source": [
        "!sleepylm chat carl-lm"
      ],
      "metadata": {
        "collapsed": true,
        "id": "zf_6wr_mR8l0"
      },
      "execution_count": null,
      "outputs": []
    }
  ]
}